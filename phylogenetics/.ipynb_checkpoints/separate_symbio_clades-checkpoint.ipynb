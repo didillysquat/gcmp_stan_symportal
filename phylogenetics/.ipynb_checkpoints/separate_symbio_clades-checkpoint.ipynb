{
 "cells": [
  {
   "cell_type": "code",
   "execution_count": 1,
   "metadata": {},
   "outputs": [],
   "source": [
    "from Bio import SeqIO\n",
    "workdir = \"/Volumes/McMinds/git_repos/gcmp_stan_symportal_2019/\""
   ]
  },
  {
   "cell_type": "code",
   "execution_count": 2,
   "metadata": {},
   "outputs": [],
   "source": [
    "clades = {}\n",
    "for seq in SeqIO.parse(workdir + \"raw_data/symbio_phylo/its2.fasta\", \"fasta\"):\n",
    "        if seq.id[0] not in clades.keys():\n",
    "            clades[seq.id[0]] = []\n",
    "        clades[seq.id[0]].append(seq)   \n",
    "        "
   ]
  },
  {
   "cell_type": "code",
   "execution_count": 3,
   "metadata": {},
   "outputs": [
    {
     "name": "stdout",
     "output_type": "stream",
     "text": [
      "dict_keys(['C', 'D', 'A', 'G', 'B', 'F', 'E', 'I', 'H'])\n"
     ]
    }
   ],
   "source": [
    "print(clades.keys())"
   ]
  },
  {
   "cell_type": "code",
   "execution_count": null,
   "metadata": {},
   "outputs": [
    {
     "name": "stdout",
     "output_type": "stream",
     "text": [
      "Writing 675 clade C seq(s) to a file\n",
      "\n",
      "Aligning clade C:\n",
      "\n",
      "nseq =  675\n",
      "distance =  localgenaf\n",
      "iterate =  16\n",
      "cycle =  1\n",
      "nthread = 0\n",
      "nadd = 0\n",
      "inputfile = infile\n",
      "thresholdtorev = 0.010000\n",
      "generating a scoring matrix for nucleotide (dist=200) ... done\n",
      "done\n",
      "done\n",
      "scoremtx = -1\n",
      "charsize=128\n",
      "\n",
      "\n",
      " 333 / 675  \r"
     ]
    }
   ],
   "source": [
    "for x in clades.keys():\n",
    "    prefix = workdir + \"output/symbio_phylo/its2_clade_\" + x\n",
    "    nseqs = len(clades[x])\n",
    "\n",
    "    print('Writing ' + str(nseqs) + ' clade ' + x + ' seq(s) to a file\\n')\n",
    "    SeqIO.write(clades[x], prefix + \".fasta\", \"fasta-2line\")\n",
    "    \n",
    "    if nseqs > 1:\n",
    "        print('Aligning clade ' + x + ':')\n",
    "        !mafft --adjustdirectionaccurately --maxiterate 1000 --ep 0 --genafpair {prefix + \".fasta\"} > {prefix + \"_aligned.fasta\"}\n",
    "        \n",
    "        print('Building phylogeny for clade ' + x + ':')\n",
    "        !iqtree -s {prefix + \"_aligned.fasta\"}"
   ]
  },
  {
   "cell_type": "code",
   "execution_count": null,
   "metadata": {},
   "outputs": [],
   "source": []
  },
  {
   "cell_type": "code",
   "execution_count": null,
   "metadata": {},
   "outputs": [],
   "source": []
  }
 ],
 "metadata": {
  "kernelspec": {
   "display_name": "Python 3",
   "language": "python",
   "name": "python3"
  },
  "language_info": {
   "codemirror_mode": {
    "name": "ipython",
    "version": 3
   },
   "file_extension": ".py",
   "mimetype": "text/x-python",
   "name": "python",
   "nbconvert_exporter": "python",
   "pygments_lexer": "ipython3",
   "version": "3.7.3"
  }
 },
 "nbformat": 4,
 "nbformat_minor": 2
}
